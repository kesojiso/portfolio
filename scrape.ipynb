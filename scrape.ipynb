{
 "cells": [
  {
   "cell_type": "code",
   "execution_count": 1,
   "metadata": {},
   "outputs": [],
   "source": [
    "import time\n",
    "import pandas as pd\n",
    "import numpy as np\n",
    "import requests\n",
    "import matplotlib.pyplot as plt\n",
    "from selenium import webdriver\n",
    "from bs4 import BeautifulSoup"
   ]
  },
  {
   "cell_type": "code",
   "execution_count": null,
   "metadata": {},
   "outputs": [],
   "source": [
    "profile_path = '\\\\Users\\\\Kenjin\\\\AppData\\\\Local\\\\Google\\\\Chrome\\\\User Data\\\\Auto'\n",
    "options = webdriver.chrome.options.Options()\n",
    "options.add_argument('--user-data-dir=' + profile_path,)\n",
    "#url='https://kakaku.com/pc/note-pc/itemlist.aspx?pdf_vi=d'\n",
    "url='https://kakaku.com/specsearch/0020/'"
   ]
  },
  {
   "cell_type": "code",
   "execution_count": null,
   "metadata": {},
   "outputs": [],
   "source": [
    "driver = webdriver.Chrome(options=options)\n",
    "driver.get(url)"
   ]
  },
  {
   "cell_type": "code",
   "execution_count": null,
   "metadata": {},
   "outputs": [],
   "source": [
    "driver.find_element_by_xpath('/html/body/div/div/div[1]/div[4]/div[2]/form/div[1]/table/tbody/tr[57]/td/select/option[4]').click()"
   ]
  },
  {
   "cell_type": "code",
   "execution_count": null,
   "metadata": {},
   "outputs": [],
   "source": [
    "driver.find_element_by_xpath('//*[@id=\"lDispNonPrice\"]').click()"
   ]
  },
  {
   "cell_type": "code",
   "execution_count": null,
   "metadata": {},
   "outputs": [],
   "source": [
    "driver.find_element_by_xpath('//*[@id=\"lDispImage\"]').click()"
   ]
  },
  {
   "cell_type": "code",
   "execution_count": null,
   "metadata": {},
   "outputs": [],
   "source": [
    "driver.find_element_by_xpath('/html/body/div/div/div[1]/div[4]/div[2]/form/div[2]/input[8]').click()"
   ]
  },
  {
   "cell_type": "code",
   "execution_count": null,
   "metadata": {},
   "outputs": [],
   "source": [
    "html = driver.page_source\n",
    "data=pd.read_html(html)\n",
    "page=data[30]\n",
    "#len(data)\n"
   ]
  },
  {
   "cell_type": "code",
   "execution_count": null,
   "metadata": {},
   "outputs": [],
   "source": [
    "page.to_csv('hoge.csv',encoding='utf_8_sig')"
   ]
  },
  {
   "cell_type": "code",
   "execution_count": null,
   "metadata": {},
   "outputs": [],
   "source": [
    "driver.find_element_by_xpath('//*[@id=\"spec_result\"]/div[2]/a[11]/span/strong').click()"
   ]
  },
  {
   "cell_type": "code",
   "execution_count": null,
   "metadata": {},
   "outputs": [],
   "source": [
    "n=0\n",
    "while(1):\n",
    "    n+=1\n",
    "    html = driver.page_source\n",
    "    data=pd.read_html(html)\n",
    "    page=data[30]\n",
    "    page.to_csv(f'page{n}.csv',encoding='utf_8_sig')\n",
    "    time.sleep(2)\n",
    "    tsugihe=driver.find_element_by_xpath('//*[@alt=\"次へ\"]')\n",
    "    if tsugihe.find_element_by_xpath('..').get_attribute('href') is None:\n",
    "        break\n",
    "    else:\n",
    "        tsugihe.click()\n",
    "        time.sleep(2)"
   ]
  },
  {
   "cell_type": "code",
   "execution_count": null,
   "metadata": {},
   "outputs": [],
   "source": [
    "import os\n",
    "import glob"
   ]
  },
  {
   "cell_type": "code",
   "execution_count": null,
   "metadata": {},
   "outputs": [],
   "source": []
  },
  {
   "cell_type": "code",
   "execution_count": null,
   "metadata": {},
   "outputs": [],
   "source": []
  },
  {
   "cell_type": "code",
   "execution_count": null,
   "metadata": {},
   "outputs": [],
   "source": [
    "paths=glob.glob('./*.csv')"
   ]
  },
  {
   "cell_type": "code",
   "execution_count": null,
   "metadata": {},
   "outputs": [],
   "source": [
    "test=pd.read_csv(paths[0])"
   ]
  },
  {
   "cell_type": "code",
   "execution_count": null,
   "metadata": {},
   "outputs": [],
   "source": [
    "alldata='./alldata.csv'\n",
    "with open(alldata,mode='a',encoding='shift_jis') as f:\n",
    "    for csv in paths:\n",
    "        df=pd.read_csv(csv)\n",
    "        df.to_csv(f,header=False)"
   ]
  },
  {
   "cell_type": "code",
   "execution_count": null,
   "metadata": {},
   "outputs": [],
   "source": [
    "alldata='./alldata.csv'\n",
    "for csv in paths:\n",
    "    df=pd.read_csv(csv)\n",
    "    df.to_csv(alldata, mode='a', encoding='utf_8_sig', header=False)"
   ]
  },
  {
   "cell_type": "code",
   "execution_count": 2,
   "metadata": {},
   "outputs": [],
   "source": [
    "#Scrape GPU Score\n",
    "\n",
    "data=pd.read_html('https://pcfreebook.com/article/459993300.html#mobile')"
   ]
  },
  {
   "cell_type": "code",
   "execution_count": 11,
   "metadata": {},
   "outputs": [
    {
     "data": {
      "text/html": [
       "<div>\n",
       "<style scoped>\n",
       "    .dataframe tbody tr th:only-of-type {\n",
       "        vertical-align: middle;\n",
       "    }\n",
       "\n",
       "    .dataframe tbody tr th {\n",
       "        vertical-align: top;\n",
       "    }\n",
       "\n",
       "    .dataframe thead th {\n",
       "        text-align: right;\n",
       "    }\n",
       "</style>\n",
       "<table border=\"1\" class=\"dataframe\">\n",
       "  <thead>\n",
       "    <tr style=\"text-align: right;\">\n",
       "      <th></th>\n",
       "      <th>GPU</th>\n",
       "      <th>3DMark Time SpyGraphics</th>\n",
       "      <th>3DMark Fire StrikeGraphics</th>\n",
       "      <th>3DMark Port Royal</th>\n",
       "      <th>TDP※一部は推定値</th>\n",
       "    </tr>\n",
       "  </thead>\n",
       "  <tbody>\n",
       "    <tr>\n",
       "      <th>0</th>\n",
       "      <td>GeForce RTX 3080</td>\n",
       "      <td>11758.0</td>\n",
       "      <td>27802</td>\n",
       "      <td>7207.0</td>\n",
       "      <td>80W – 150W</td>\n",
       "    </tr>\n",
       "    <tr>\n",
       "      <th>1</th>\n",
       "      <td>Radeon RX 6800M</td>\n",
       "      <td>11719.0</td>\n",
       "      <td>33767</td>\n",
       "      <td>5470.0</td>\n",
       "      <td>?W – 145W</td>\n",
       "    </tr>\n",
       "    <tr>\n",
       "      <th>2</th>\n",
       "      <td>GeForce RTX 3070</td>\n",
       "      <td>10463.0</td>\n",
       "      <td>26513</td>\n",
       "      <td>6243.0</td>\n",
       "      <td>80W – 125W</td>\n",
       "    </tr>\n",
       "    <tr>\n",
       "      <th>3</th>\n",
       "      <td>GeForce RTX 2080 Super</td>\n",
       "      <td>10165.0</td>\n",
       "      <td>26169</td>\n",
       "      <td>6285.0</td>\n",
       "      <td>150W</td>\n",
       "    </tr>\n",
       "    <tr>\n",
       "      <th>4</th>\n",
       "      <td>GeForce RTX 2080</td>\n",
       "      <td>9947.0</td>\n",
       "      <td>25687</td>\n",
       "      <td>5982.0</td>\n",
       "      <td>150W</td>\n",
       "    </tr>\n",
       "    <tr>\n",
       "      <th>...</th>\n",
       "      <td>...</td>\n",
       "      <td>...</td>\n",
       "      <td>...</td>\n",
       "      <td>...</td>\n",
       "      <td>...</td>\n",
       "    </tr>\n",
       "    <tr>\n",
       "      <th>111</th>\n",
       "      <td>HD Graphics 4000 Mobile</td>\n",
       "      <td>NaN</td>\n",
       "      <td>447</td>\n",
       "      <td>NaN</td>\n",
       "      <td>–</td>\n",
       "    </tr>\n",
       "    <tr>\n",
       "      <th>112</th>\n",
       "      <td>UHD Graphics 600</td>\n",
       "      <td>110.0</td>\n",
       "      <td>430</td>\n",
       "      <td>NaN</td>\n",
       "      <td>–</td>\n",
       "    </tr>\n",
       "    <tr>\n",
       "      <th>113</th>\n",
       "      <td>HD Graphics 500</td>\n",
       "      <td>101.0</td>\n",
       "      <td>360</td>\n",
       "      <td>NaN</td>\n",
       "      <td>–</td>\n",
       "    </tr>\n",
       "    <tr>\n",
       "      <th>114</th>\n",
       "      <td>HD Graphics 505</td>\n",
       "      <td>94.0</td>\n",
       "      <td>408</td>\n",
       "      <td>NaN</td>\n",
       "      <td>–</td>\n",
       "    </tr>\n",
       "    <tr>\n",
       "      <th>115</th>\n",
       "      <td>HD Graphics 400</td>\n",
       "      <td>NaN</td>\n",
       "      <td>230</td>\n",
       "      <td>NaN</td>\n",
       "      <td>–</td>\n",
       "    </tr>\n",
       "  </tbody>\n",
       "</table>\n",
       "<p>116 rows × 5 columns</p>\n",
       "</div>"
      ],
      "text/plain": [
       "                         GPU  3DMark Time SpyGraphics  \\\n",
       "0           GeForce RTX 3080                  11758.0   \n",
       "1            Radeon RX 6800M                  11719.0   \n",
       "2           GeForce RTX 3070                  10463.0   \n",
       "3     GeForce RTX 2080 Super                  10165.0   \n",
       "4           GeForce RTX 2080                   9947.0   \n",
       "..                       ...                      ...   \n",
       "111  HD Graphics 4000 Mobile                      NaN   \n",
       "112         UHD Graphics 600                    110.0   \n",
       "113          HD Graphics 500                    101.0   \n",
       "114          HD Graphics 505                     94.0   \n",
       "115          HD Graphics 400                      NaN   \n",
       "\n",
       "     3DMark Fire StrikeGraphics  3DMark Port Royal  TDP※一部は推定値  \n",
       "0                         27802             7207.0  80W – 150W  \n",
       "1                         33767             5470.0   ?W – 145W  \n",
       "2                         26513             6243.0  80W – 125W  \n",
       "3                         26169             6285.0        150W  \n",
       "4                         25687             5982.0        150W  \n",
       "..                          ...                ...         ...  \n",
       "111                         447                NaN           –  \n",
       "112                         430                NaN           –  \n",
       "113                         360                NaN           –  \n",
       "114                         408                NaN           –  \n",
       "115                         230                NaN           –  \n",
       "\n",
       "[116 rows x 5 columns]"
      ]
     },
     "execution_count": 11,
     "metadata": {},
     "output_type": "execute_result"
    }
   ],
   "source": [
    "GPU_table=data[1]\n",
    "GPU_table"
   ]
  },
  {
   "cell_type": "code",
   "execution_count": 12,
   "metadata": {},
   "outputs": [],
   "source": [
    "GPU_table.to_csv('gpu_table.csv', mode='a', encoding='utf_8_sig',index=False)"
   ]
  },
  {
   "cell_type": "code",
   "execution_count": null,
   "metadata": {},
   "outputs": [],
   "source": []
  }
 ],
 "metadata": {
  "kernelspec": {
   "display_name": "Python 3",
   "language": "python",
   "name": "python3"
  },
  "language_info": {
   "codemirror_mode": {
    "name": "ipython",
    "version": 3
   },
   "file_extension": ".py",
   "mimetype": "text/x-python",
   "name": "python",
   "nbconvert_exporter": "python",
   "pygments_lexer": "ipython3",
   "version": "3.8.5"
  }
 },
 "nbformat": 4,
 "nbformat_minor": 5
}
